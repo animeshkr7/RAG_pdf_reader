{
 "cells": [
  {
   "cell_type": "code",
   "execution_count": 12,
   "metadata": {},
   "outputs": [
    {
     "name": "stderr",
     "output_type": "stream",
     "text": [
      "C:\\Users\\aks\\AppData\\Local\\Temp\\ipykernel_1892\\1674973894.py:12: DeprecationWarning: \n",
      "Python client v3 `weaviate.Client(...)` connections and methods are deprecated and will\n",
      "            be removed by 2024-11-30.\n",
      "\n",
      "            Upgrade your code to use Python client v4 `weaviate.WeaviateClient` connections and methods.\n",
      "                - For Python Client v4 usage, see: https://weaviate.io/developers/weaviate/client-libraries/python\n",
      "                - For code migration, see: https://weaviate.io/developers/weaviate/client-libraries/python/v3_v4_migration\n",
      "\n",
      "            If you have to use v3 code, install the v3 client and pin the v3 dependency in your requirements file: `weaviate-client>=3.26.7;<4.0.0`\n",
      "  client = weaviate.Client(\n"
     ]
    }
   ],
   "source": [
    "from langchain.vectorstores import Weaviate\n",
    "import weaviate\n",
    "import os\n",
    "from dotenv import load_dotenv\n",
    "\n",
    "load_dotenv()\n",
    "\n",
    "WEAVIATE_URL = os.getenv(\"WEAVIATE_CLUSTER\")\n",
    "WEAVIATE_API_KEY = os.getenv(\"WEAVIATE_API_KEY\")\n",
    "\n",
    "\n",
    "client = weaviate.Client(\n",
    "    url = WEAVIATE_URL , auth_client_secret = weaviate.AuthApiKey(WEAVIATE_API_KEY) \n",
    ")"
   ]
  },
  {
   "cell_type": "code",
   "execution_count": 13,
   "metadata": {},
   "outputs": [
    {
     "name": "stderr",
     "output_type": "stream",
     "text": [
      "d:\\ml_main\\git\\New folder\\myenv\\lib\\site-packages\\sentence_transformers\\cross_encoder\\CrossEncoder.py:13: TqdmWarning: IProgress not found. Please update jupyter and ipywidgets. See https://ipywidgets.readthedocs.io/en/stable/user_install.html\n",
      "  from tqdm.autonotebook import tqdm, trange\n",
      "d:\\ml_main\\git\\New folder\\myenv\\lib\\site-packages\\transformers\\tokenization_utils_base.py:1601: FutureWarning: `clean_up_tokenization_spaces` was not set. It will be set to `True` by default. This behavior will be depracted in transformers v4.45, and will be then set to `False` by default. For more details check this issue: https://github.com/huggingface/transformers/issues/31884\n",
      "  warnings.warn(\n"
     ]
    }
   ],
   "source": [
    "# embedding\n",
    "\n",
    "from langchain.embeddings import HuggingFaceBgeEmbeddings\n",
    "embedding_model_name = \"Sentence-Transformers/all-mpnet-base-v2\"\n",
    "\n",
    "\n",
    "# model_kwargs = {\"device\" : \"cuda\"}\n",
    "\n",
    "embeddings  = HuggingFaceBgeEmbeddings(\n",
    "    model_name = embedding_model_name ,\n",
    "    # model_kwargs = model_kwargs\n",
    ")"
   ]
  },
  {
   "cell_type": "code",
   "execution_count": 8,
   "metadata": {},
   "outputs": [
    {
     "name": "stderr",
     "output_type": "stream",
     "text": [
      "invalid pdf header: b'<!DOC'\n",
      "incorrect startxref pointer(1)\n"
     ]
    }
   ],
   "source": [
    "# loading pdf\n",
    "\n",
    "from langchain.document_loaders import PyPDFLoader\n",
    "\n",
    "path = 'CNet.pdf'\n",
    "\n",
    "loader = PyPDFLoader(path , extract_images = True)\n",
    "pages = loader.load()"
   ]
  },
  {
   "cell_type": "code",
   "execution_count": 9,
   "metadata": {},
   "outputs": [
    {
     "data": {
      "text/plain": [
       "[Document(metadata={'source': 'CNet.pdf', 'page': 0}, page_content='Course Handout  (2023-24 ODD SEMESTER)\\n \\n \\nSubject Name/Code :  Computer Networks (BTCS-T-PC-013) Branch/Sem/Batch :\\nName of Faculty:  Kasturi Dhal , Amarjeet Mohanty , Ranjit Kumar Behera , SASMITA PARIDA , KAILASH\\nCHANDRA MISHRA , MILAN SAMANTARAY\\nScope & Objective -:\\n  \\nThe objective of this course is to study the fundamental concepts of computer networks and develop an understanding of modern\\nnetwork architectures from design & performance perspective.\\nPre-Requisite -:\\n  \\nDetailed Syllabus:\\nModule# CO Topics Hours\\nModule-1 CO1Introduction: Overview of Data Communication Networks,\\nProtocols and standards, OSI Reference model, TCP/IP\\nProtocol; Physical Layer: Analog Signals, Digital Signals, Data\\nRate Limits, Transmission Impairment; Digital Transmission:\\nDigital-to-Digital & Analog-to- Digital conversion, Transmission\\nModes; Analog Transmission: Digital-to-Analog & Analogto-\\nAnalog conversion; Multiplexing: FDM, TDM; Transmission\\nMedia: Guided Media, Unguided media; Switching: Circuit\\nSwitched, Datagram, and Virtual-Circuit Networks.8\\nModule-2 CO2Error Detection & Correction: Types of Errors, Error Detection\\nmechanisms (Linear codes, Hamming codes, CRC, Checksum);\\nData Link Control and Protocols: Flow and Error Control, Stop-\\nand-Wait ARQ, Go-Back- N ARQ, Selective Repeat ARQ;\\nIntroduction to HDLC and Point-to- Point Protocol; Multiple\\nAccess Mechanisms: Random Access - CSMA, CSMA/CD,\\nCSMA/CA; Channelization: FDMA, TDMA, CDMA; Wired LANs\\n(Ethernet): Traditional, Fast, and Gigabit Ethernet standards;\\nWireless LANs: IEEE802.11 Standards; Connecting Devices:\\nRepeaters, Switches, Routers, Bridges, Modems, Hubs.10\\nModule-3 CO3Network Layer: IPV4 & IPV6 addresses, Subnets; Internet\\nProtocol: Internetworking, IPV4 & IPV6 datagram format;\\nNetwork Layer Protocols: ARP, RARP, ICMP working principles\\nand datagram format; Routing: Unicast and Multicast Routing\\nProtocols.10\\nModule-4 CO4Transport Layer: Process to Process Delivery, User Datagram\\nProtocol (UDP) and Transmission Control Protocol (TCP), TCP\\nand UDP segments and Flow Control.8\\nModule-5 CO5Domain Name System (DNS): Name Space, Domain Name\\nSpace and Distribution; Resolution: Recursive and Iterative\\nDNS Queries; FTP, SMTP, HTTP.6\\nTotal 42 Hours\\n# Topic Module Chapter Course Coverage No of Classes\\n1Overview of Data Communication\\nNetworks, Protocols and standardsModule-1 TRUE 1\\n2 OSI Reference model Module-1 TRUE 1\\n3 TCP/IP Protocol Module-1 TRUE 1\\n4Physical Layer: Analog Signals and Digital\\nSignalsModule-1 TRUE 1\\n5Transmission Impairment, Data rate limit,\\nPerformanceModule-1 TRUE 1\\n6Digital Transmission: Digital-to-Digital\\nconversionModule-1 TRUE 1'),\n",
       " Document(metadata={'source': 'CNet.pdf', 'page': 1}, page_content='7 Line coding schemes Module-1 TRUE 1\\n8 Block coding, Scrambling Module-1 TRUE 1\\n9 Analog-to-Digital conversion Module-1 TRUE 1\\n10 Transmission modes Module-1 TRUE 1\\n11Analog Transmission: Digital-to-Analog\\nconversionModule-1 TRUE 1\\n12 Analog-to-Analog conversion Module-1 TRUE 1\\n13Multiplexing: Frequency Division\\nMultiplexing (FDM), Wave Division\\nMultiplexing (WDM)Module-1 TRUE 1\\n14 Time Division Multiplexing (TDM) Module-1 TRUE 1\\n15Transmission Media: Guided Media\\n(Twisted-Pair Cable, Coaxial Cable and\\nFiber-Optic Cable) and unguided media\\n(wireless)Module-1 TRUE 1\\n16Switching: Circuit Switched Network,\\nDatagram Network, Virtual-Circuit NetworkModule-1 TRUE 1\\n17 Preparation for Class Test-I FALSE 1\\n18Discussion of Q-A of class test-I and\\nshowing answer script to studentsModule-1 FALSE 1\\n19Error Detection and correction: Types of\\nErrors, Error Detection mechanism:Linear\\ncodesModule-2 TRUE 1\\n20 CRC, Checksum Module-2 TRUE 1\\n21Error Correction mechanism: Hamming\\nEncodingModule-2 TRUE 1\\n22Data Link Control and Protocols: Flow and\\nError Control, Stop-and-Wait ARQModule-2 TRUE 1\\n23 Go-Back-N ARQ, Selective Repeat ARQ Module-2 TRUE 1\\n24 HDLC, Point-to-Point Protocol TRUE 1\\n25 Multiple Access: Random Access :ALOHA Module-2 TRUE 1\\n26 CSMA, CSMA/CD, CSMA/CA Module-2 TRUE 1\\n27Controlled Access (Polling, Reservation,\\nToken Passing)Module-2 TRUE 1\\n28 Channelization (FDMA, TDMA, CDMA) Module-2 TRUE 1\\n29Wired LANs (Ethernet): Traditional\\nEthernet, Fast Ethernet, Gigabit EthernetModule-2 TRUE 1\\n30 Wireless LANs: IEEE 802.11 and Bluetooth Module-2 TRUE 1\\n31Connecting Devices: Passive Hub, Repeater,\\nActive Hub, Bridge, Two layers Switch,\\nRouter, Three layers Switch, Gateway.Module-2 TRUE 1\\n32Virtual Circuit Networks: Frame Relay,\\nArchitecture & layersModule-2 TRUE 1\\n33 Preparation for Class Test-II Module-2 FALSE 1\\n34Discussion of Q-A of class test-II and\\nshowing answer script to studentsModule-2 FALSE 1\\n35Network Layer: IPV4 addresses, IPV6\\naddressesModule-3 TRUE 1\\n36IPV4 datagram, IPV6 packet format and\\nadvantagesModule-3 TRUE 1\\n3738 Network Layer Protocols: ARP, RARP,\\nIGMP and ICMPModule-3 TRUE 1\\n38Routing: Unicast and multicast Routing\\nProtocolsModule-3 TRUE 1\\n39Transport Layer: Process to Process\\nDelivery, User Datagram Protocol (UDP)\\nand Transmission Control Protocol (TCP).Module-4 TRUE 1\\n40Domain Name System (DNS): Name Space,\\nDomain Name Space, DNS in Internet,\\nResolution and Dynamic Domain Name\\nSystem (DDNS)Module-5 TRUE 1\\n41Remote logging, FTP, Electronic Mail\\n(SMTP)Module-5 TRUE 1\\n42WWW: Architecture & Web document,\\nHTTP: Transaction & Persistent vs. Non\\npersistent connection, Introduction to Wi-Fi\\nand Li-Fi TechnologyModule-5 * TRUE 1'),\n",
       " Document(metadata={'source': 'CNet.pdf', 'page': 2}, page_content='Total no. of classes :  42\\nText Book\\nB. A. Forouzan, Data Communication and Networking, 5th Edition, Tata McGraw-Hill, 2017, ., .\\nA. S. Tannenbum and D. Wetherall, Computer Networks, 5th Edition, Prentice Hall, Imprint of Pearson, 2016, ., .\\nReference Book\\nL. L. Peterson and B. S. Davie, Computer Networks: A System Approach, 5th Edition, Elsevier, 2011, ., .\\nW. Stallings, Data and Computer Communications, 10th Edition, Pearson Education, 2017, ., .\\nB. A. Forouzan and F. Mosharraf, Computer Networks: A Top-Down Approach, McGraw-Hill Education, 2017, ., .\\nOnline Reference Material(s):\\n  \\n1. https://nptel.ac.in/courses/106/105/106105183/: by Prof. S. Chakraborty and Prof. S. K. Ghosh, IIT Kharagpur\\n2. https://nptel.ac.in/courses/106/106/106106091/: by Prof. H. A. Murthy, IIT Madras\\n3. https://nptel.ac.in/courses/106/105/106105080/: by Prof. A. Pal, IIT Kharagpur\\n4. https://nptel.ac.in/courses/106/105/106105081/: by Prof. S. Ghosh, IIT Kharagpur\\n5. http://intronetworks.cs.luc.edu/current/ComputerNetworks.pdf: eBook by Prof. P. L. Dordal, Loyola University, Chicago, USA\\nCourse Outcome:\\nCO1Describe the basics of computer networks, topology, TCP/IP, and OSI reference models and various\\ntechniques and modes of transmission (Analog and Digital).\\nCO2Compare various Data Link protocols, Error detecting mechanisms, Multi-Channel Access protocols\\nand IEEE 802.xx standards for LAN.\\nCO3Describe IPv4 & IPv6 addressing schemes, subnets, routing principles and algorithms used in the\\nnetwork layer.\\nCO4Explain the protocols of Transport & Application layers and understand the working principles of\\nInternet & theWorld WideWeb.\\nCO5Explain the principles of DNS hierarchy and working principles of various Application layer\\nprotocols.\\nProgram Outcomes Relevent to the Course:\\nPO1Engineering knowledge: Apply the knowledge of mathematics, science, engineering fundamentals,\\nand an engineering specialization to the solution of complex engineering problems\\nPO2Problem analysis: Identify, formulate, review research literature, and analyze complex engineering\\nproblems reaching substantiated conclusions using first principles of mathematics, natural\\nsciences, and engineering sciences.\\nPO3Design/development of solutions: Design solutions for complex engineering problems and design\\nsystem components or processes that meet the specified needs with appropriate consideration for\\nthe public health and safety, and the cultural, societal, and environmental considerations.\\nPO4Conduct investigations of complex problems: Use research-based knowledge and research methods\\nincluding design of experiments, analysis and interpretation of data, and synthesis of the\\ninformation to provide valid conclusions.\\nPO5Modern tool usage: Create, select, and apply appropriate techniques, resources, and modern\\nengineering and IT tools including prediction and modeling to complex engineering activities with\\nan understanding of the limitations.\\nPO6The engineer and society: Apply reasoning informed by the contextual knowledge to assess\\nsocietal, health, safety, legal and cultural issues and the consequent responsibilities relevant to the\\nprofessional engineering practice.\\nPO7Environment and sustainability: Understand the impact of the professional engineering solutions in\\nsocietal and environmental contexts, and demonstrate the knowledge of, and need for sustainable\\ndevelopment.\\nPO8Ethics: Apply ethical principles and commit to professional ethics and responsibilities and norms of\\nthe engineering practice.\\nPO9Individual and team work: Function effectively as an individual, and as a member or leader in\\ndiverse teams, and in multidisciplinary settings.'),\n",
       " Document(metadata={'source': 'CNet.pdf', 'page': 3}, page_content=\"PO10Communication: Communicate effectively on complex engineering activities with the engineering\\ncommunity and with society at large, such as, being able to comprehend and write effective reports\\nand design documentation, make effective presentations, and give and receive clear instructions.\\nPO11Project management and finance: Demonstrate knowledge and understanding of the engineering\\nand management principles and apply these to one’s own work, as a member and leader in a team,\\nto manage projects and in multidisciplinary environments.\\nPO12Life-long learning: Recognize the need for, and have the preparation and ability to engage in\\nindependent and life-long learning in the broadest context of technological change.\\nMapping of CO's to PO's: (1: Low, 2: Medium, 3: High)\\nPO1 PO2 PO3 PO4 PO6 PO12\\nCO1 3 3 3 3 1\\nCO2 2 3 2 3 1\\nCO3 3 2 2 3 1\\nCO4 3 2 2 2 1 1\\nCO5 2 2 2 2 2 1\")]"
      ]
     },
     "execution_count": 9,
     "metadata": {},
     "output_type": "execute_result"
    }
   ],
   "source": [
    "pages"
   ]
  },
  {
   "cell_type": "code",
   "execution_count": 14,
   "metadata": {},
   "outputs": [],
   "source": [
    "# chunking\n",
    "\n",
    "\n",
    "from langchain.text_splitter import RecursiveCharacterTextSplitter\n",
    "\n",
    "text_splitter = RecursiveCharacterTextSplitter(chunk_size = 1000 , chunk_overlap= 20)\n",
    "\n",
    "docs = text_splitter.split_documents(pages)"
   ]
  },
  {
   "cell_type": "code",
   "execution_count": 16,
   "metadata": {},
   "outputs": [],
   "source": [
    "# docs"
   ]
  },
  {
   "cell_type": "code",
   "execution_count": 19,
   "metadata": {},
   "outputs": [],
   "source": [
    "vector_db = Weaviate.from_documents(\n",
    "    docs , embeddings , client = client , by_text= False\n",
    ")"
   ]
  },
  {
   "cell_type": "code",
   "execution_count": 24,
   "metadata": {},
   "outputs": [
    {
     "name": "stdout",
     "output_type": "stream",
     "text": [
      "5. http://intronetworks.cs.luc.edu/current/ComputerNetworks.pdf: eBook by Prof. P. L. Dordal, Loyola University, Chicago, USA\n",
      "Course Outcome:\n",
      "CO1Describe the basics of computer networks, topology, TCP/IP, and OSI reference models and various\n",
      "techniques and modes of transmission (Analog and Digital).\n",
      "CO2Compare various Data Link protocols, Error detecting mechanisms, Multi-Channel Access protocols\n",
      "and IEEE 802.xx standards for LAN.\n",
      "CO3Describe IPv4 & IPv6 addressing schemes, subnets, routing principles and algorithms used in the\n",
      "network layer.\n",
      "CO4Explain the protocols of Transport & Application layers and understand the working principles of\n",
      "Internet & theWorld WideWeb.\n",
      "CO5Explain the principles of DNS hierarchy and working principles of various Application layer\n",
      "protocols.\n",
      "Program Outcomes Relevent to the Course:\n",
      "PO1Engineering knowledge: Apply the knowledge of mathematics, science, engineering fundamentals,\n"
     ]
    }
   ],
   "source": [
    "print(\n",
    "    vector_db.similarity_search(\n",
    "        \"what is the syllabus?\" , k =3\n",
    ")[0].page_content\n",
    ")"
   ]
  },
  {
   "cell_type": "code",
   "execution_count": 25,
   "metadata": {},
   "outputs": [],
   "source": [
    "# Generation using LLM and retrived context "
   ]
  },
  {
   "cell_type": "code",
   "execution_count": 26,
   "metadata": {},
   "outputs": [],
   "source": [
    "from langchain.prompts import ChatPromptTemplate\n",
    "\n",
    "template = \"\"\"\n",
    "You are an assistent for question-answering task .\n",
    "Use the following piece of retrived context to answer the question .\n",
    "If you don't know ,just say idk.\n",
    "Use 10 sentence at maximux and keep the answer concise.\n",
    "Question : {question}\n",
    "Context : {context}\n",
    "Answer : \n",
    "\"\"\"\n",
    "\n"
   ]
  },
  {
   "cell_type": "code",
   "execution_count": 27,
   "metadata": {},
   "outputs": [],
   "source": [
    "prompt = ChatPromptTemplate.from_template(template)"
   ]
  },
  {
   "cell_type": "code",
   "execution_count": 38,
   "metadata": {},
   "outputs": [],
   "source": [
    "# importing LLM from hugging face\n",
    "\n",
    "from langchain import HuggingFaceHub\n",
    "\n",
    "load_dotenv()\n",
    "\n",
    "huggingfacehub_api_token = os.getenv(\"HUGGINGFACE_TOKEN\")"
   ]
  },
  {
   "cell_type": "code",
   "execution_count": 39,
   "metadata": {},
   "outputs": [],
   "source": [
    "model = HuggingFaceHub(\n",
    "    huggingfacehub_api_token=huggingfacehub_api_token,\n",
    "    repo_id = 'mistralai/Mistral-7B-Instruct-v0.1',\n",
    "    model_kwargs={'temperature' : 1 , \"max_length\" : 180}\n",
    ")"
   ]
  },
  {
   "cell_type": "code",
   "execution_count": 40,
   "metadata": {},
   "outputs": [],
   "source": [
    "from langchain.schema.runnable import RunnablePassthrough\n",
    "from langchain.schema.output_parser import StrOutputParser"
   ]
  },
  {
   "cell_type": "code",
   "execution_count": 41,
   "metadata": {},
   "outputs": [],
   "source": [
    "output_parser = StrOutputParser()\n",
    "retriever = vector_db.as_retriever()"
   ]
  },
  {
   "cell_type": "code",
   "execution_count": 42,
   "metadata": {},
   "outputs": [],
   "source": [
    "rag_chain = (\n",
    "\n",
    "    {'context' :retriever  , 'question' : RunnablePassthrough()}\n",
    "    | prompt\n",
    "    | model\n",
    "     |output_parser\n",
    "\n",
    ")"
   ]
  },
  {
   "cell_type": "code",
   "execution_count": 46,
   "metadata": {},
   "outputs": [],
   "source": [
    "output = rag_chain.invoke(\"What is this context about ?\")"
   ]
  },
  {
   "cell_type": "code",
   "execution_count": 53,
   "metadata": {},
   "outputs": [
    {
     "name": "stdout",
     "output_type": "stream",
     "text": [
      "Answer : \n",
      "The context appears to be related to the field of engineering and the skills and knowledge required for effective communication, project management, and problem-solving in engineering activities. The context includes information on the use of engineering and IT tools, as well as the importance of understanding the limitations of these tools. The context also emphasizes the need for ethical principles and the application of these principles to professional engineering practice. The context includes information on the impact of engineering solutions on societal and environmental contexts, and the\n"
     ]
    }
   ],
   "source": [
    "print(output[3946:])"
   ]
  }
 ],
 "metadata": {
  "kernelspec": {
   "display_name": "myenv",
   "language": "python",
   "name": "python3"
  },
  "language_info": {
   "codemirror_mode": {
    "name": "ipython",
    "version": 3
   },
   "file_extension": ".py",
   "mimetype": "text/x-python",
   "name": "python",
   "nbconvert_exporter": "python",
   "pygments_lexer": "ipython3",
   "version": "3.10.10"
  }
 },
 "nbformat": 4,
 "nbformat_minor": 2
}
